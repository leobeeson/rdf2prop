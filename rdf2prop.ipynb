{
 "metadata": {
  "language_info": {
   "codemirror_mode": {
    "name": "ipython",
    "version": 3
   },
   "file_extension": ".py",
   "mimetype": "text/x-python",
   "name": "python",
   "nbconvert_exporter": "python",
   "pygments_lexer": "ipython3",
   "version": "3.8.5-final"
  },
  "orig_nbformat": 2,
  "kernelspec": {
   "name": "python3",
   "display_name": "Python 3"
  }
 },
 "nbformat": 4,
 "nbformat_minor": 2,
 "cells": [
  {
   "cell_type": "code",
   "execution_count": 1,
   "metadata": {},
   "outputs": [],
   "source": [
    "from rdflib import Graph, URIRef, Literal, util\n",
    "from rdflib.namespace import RDF, RDFS\n",
    "import warnings\n",
    "from pprint import pprint"
   ]
  },
  {
   "cell_type": "code",
   "execution_count": 2,
   "metadata": {},
   "outputs": [],
   "source": [
    "class UnexpectedRangeDatatype(UserWarning):\n",
    "     pass"
   ]
  },
  {
   "cell_type": "code",
   "execution_count": 3,
   "metadata": {},
   "outputs": [],
   "source": [
    "class MultipleRangeDatatypes(UserWarning):\n",
    "     pass"
   ]
  },
  {
   "cell_type": "code",
   "execution_count": 4,
   "metadata": {},
   "outputs": [
    {
     "output_type": "execute_result",
     "data": {
      "text/plain": [
       "<Graph identifier=N0ad2a3283adf4b9aa75a88f154c6f6a3 (<class 'rdflib.graph.Graph'>)>"
      ]
     },
     "metadata": {},
     "execution_count": 4
    }
   ],
   "source": [
    "g = Graph()\n",
    "g.parse(\"http://vps516494.ovh.net/Survol/survol/objtypes.py?xid=.&mode=rdf\", format='xml')"
   ]
  },
  {
   "cell_type": "code",
   "execution_count": 5,
   "metadata": {},
   "outputs": [
    {
     "output_type": "stream",
     "name": "stdout",
     "text": [
      "http://www.primhillcomputers.com/survol#DeviceID\nhttp://www.primhillcomputers.com/survol#Domain\nhttp://www.primhillcomputers.com/survol#File\nhttp://www.primhillcomputers.com/survol#Handle\nhttp://www.primhillcomputers.com/survol#Id\nhttp://www.primhillcomputers.com/survol#Name\nhttp://www.primhillcomputers.com/survol#directory\n"
     ]
    }
   ],
   "source": [
    "# Get all subjects of type property, i.e. the properties declared for the business domain:\n",
    "props = list(g.subjects(RDF.type, RDF.Property))\n",
    "props.sort()\n",
    "for p in props:\n",
    "    print(p)"
   ]
  },
  {
   "cell_type": "code",
   "execution_count": 6,
   "metadata": {
    "tags": []
   },
   "outputs": [
    {
     "output_type": "stream",
     "name": "stdout",
     "text": [
      "{rdflib.term.URIRef('http://www.primhillcomputers.com/survol#DeviceID'): {'number_of_triples': 0}}\n{rdflib.term.URIRef('http://www.primhillcomputers.com/survol#DeviceID'): {'number_of_triples': 0},\n rdflib.term.URIRef('http://www.primhillcomputers.com/survol#Domain'): {'number_of_triples': 0}}\n{rdflib.term.URIRef('http://www.primhillcomputers.com/survol#DeviceID'): {'number_of_triples': 0},\n rdflib.term.URIRef('http://www.primhillcomputers.com/survol#Domain'): {'number_of_triples': 0},\n rdflib.term.URIRef('http://www.primhillcomputers.com/survol#File'): {'number_of_triples': 0}}\n{rdflib.term.URIRef('http://www.primhillcomputers.com/survol#DeviceID'): {'number_of_triples': 0},\n rdflib.term.URIRef('http://www.primhillcomputers.com/survol#Domain'): {'number_of_triples': 0},\n rdflib.term.URIRef('http://www.primhillcomputers.com/survol#File'): {'number_of_triples': 0},\n rdflib.term.URIRef('http://www.primhillcomputers.com/survol#Handle'): {'number_of_triples': 0}}\n{rdflib.term.URIRef('http://www.primhillcomputers.com/survol#DeviceID'): {'number_of_triples': 0},\n rdflib.term.URIRef('http://www.primhillcomputers.com/survol#Domain'): {'number_of_triples': 0},\n rdflib.term.URIRef('http://www.primhillcomputers.com/survol#File'): {'number_of_triples': 0},\n rdflib.term.URIRef('http://www.primhillcomputers.com/survol#Handle'): {'number_of_triples': 0},\n rdflib.term.URIRef('http://www.primhillcomputers.com/survol#Id'): {'number_of_triples': 0}}\n{rdflib.term.URIRef('http://www.primhillcomputers.com/survol#DeviceID'): {'number_of_triples': 0},\n rdflib.term.URIRef('http://www.primhillcomputers.com/survol#Domain'): {'number_of_triples': 0},\n rdflib.term.URIRef('http://www.primhillcomputers.com/survol#File'): {'number_of_triples': 0},\n rdflib.term.URIRef('http://www.primhillcomputers.com/survol#Handle'): {'number_of_triples': 0},\n rdflib.term.URIRef('http://www.primhillcomputers.com/survol#Id'): {'number_of_triples': 0},\n rdflib.term.URIRef('http://www.primhillcomputers.com/survol#Name'): {'number_of_triples': 0}}\n{rdflib.term.URIRef('http://www.primhillcomputers.com/survol#DeviceID'): {'number_of_triples': 0},\n rdflib.term.URIRef('http://www.primhillcomputers.com/survol#Domain'): {'number_of_triples': 0},\n rdflib.term.URIRef('http://www.primhillcomputers.com/survol#File'): {'number_of_triples': 0},\n rdflib.term.URIRef('http://www.primhillcomputers.com/survol#Handle'): {'number_of_triples': 0},\n rdflib.term.URIRef('http://www.primhillcomputers.com/survol#Id'): {'number_of_triples': 0},\n rdflib.term.URIRef('http://www.primhillcomputers.com/survol#Name'): {'number_of_triples': 0},\n rdflib.term.URIRef('http://www.primhillcomputers.com/survol#directory'): {'number_of_literals': 0,\n                                                                           'number_of_triples': 129,\n                                                                           'number_of_uri': 129,\n                                                                           'property_type': 'relationship'}}\n"
     ]
    }
   ],
   "source": [
    "# Classify business domain properties between attributes and relationships:\n",
    "if len(props) > 0:\n",
    "    props_dict = {}\n",
    "    for prop in props:\n",
    "        objects = list(g.objects(None, prop))\n",
    "        num_objs = len(objects)\n",
    "        prop_dict = {'number_of_triples': num_objs}\n",
    "        if num_objs > 0:\n",
    "            num_lits = 0\n",
    "            num_uri = 0\n",
    "            num_else = 0\n",
    "            for obj in objects:\n",
    "                if isinstance(obj, Literal):\n",
    "                    num_lits += 1\n",
    "                elif isinstance(obj, URIRef):\n",
    "                    num_uri += 1\n",
    "                else:\n",
    "                    num_else += 1\n",
    "            if num_else > 0:\n",
    "                warning.warn(\"At least one object was neither a URI or a Literal.\", UnexpectedRangeDatatype)\n",
    "            if num_lits > 0 and num_uri >0:\n",
    "                warnings.warn(\"At least one object was URI and another a Literal.\", MultipleRangeDatatypes)\n",
    "            if num_lits >= num_uri: \n",
    "                datatype_flag = \"attribute\" # This will assign any different datatype, multiple datatypes (lit > uri), and num_lits == 0 & num_uri == 0 as a graph attribute.\n",
    "            else:\n",
    "                datatype_flag = \"relationship\"\n",
    "            prop_dict['number_of_literals'] = num_lits\n",
    "            prop_dict['number_of_uri'] = num_uri\n",
    "            prop_dict['property_type'] = datatype_flag\n",
    "            props_dict[prop] = prop_dict\n",
    "        else:\n",
    "            props_dict[prop] = prop_dict\n",
    "        pprint(props_dict)\n",
    "else:\n",
    "    print(\"There are no properties declared for the business domain.\")"
   ]
  },
  {
   "cell_type": "code",
   "execution_count": 7,
   "metadata": {},
   "outputs": [],
   "source": [
    "# Get property classification:\n",
    "def get_property_classification(property_uri, property_dict):\n",
    "    if property_dict[property_uri]['number_of_triples'] > 0:\n",
    "            return(property_dict[property_uri]['property_type'])"
   ]
  },
  {
   "cell_type": "code",
   "execution_count": 8,
   "metadata": {},
   "outputs": [],
   "source": [
    "# Define standard and business domain node attributes:\n",
    "standard_attributes = [URIRef('http://www.w3.org/1999/02/22-rdf-syntax-ns#type'),\n",
    "                       URIRef('http://www.w3.org/2000/01/rdf-schema#label'), \n",
    "                       URIRef('http://www.w3.org/2000/01/rdf-schema#comment'),\n",
    "                       URIRef('http://www.w3.org/1999/02/22-rdf-syntax-ns#language')]\n",
    "\n",
    "domain_attributes = []"
   ]
  },
  {
   "cell_type": "code",
   "execution_count": 9,
   "metadata": {},
   "outputs": [],
   "source": [
    "# Define standard and business domain relationships:\n",
    "standard_relationships = [URIRef('http://www.w3.org/2000/01/rdf-schema#subClassOf')]\n",
    "\n",
    "domain_relationships = []"
   ]
  },
  {
   "cell_type": "code",
   "execution_count": 10,
   "metadata": {},
   "outputs": [
    {
     "output_type": "stream",
     "name": "stdout",
     "text": [
      "Domain Attributes: []\nDomain Relationships: [rdflib.term.URIRef('http://www.primhillcomputers.com/survol#directory')]\n"
     ]
    }
   ],
   "source": [
    "# Retrieve all business domain attributes and relationships:\n",
    "for prop in props_dict:\n",
    "    property_type = get_property_classification(prop, props_dict)\n",
    "    if property_type == 'attribute':\n",
    "        domain_attributes.append(prop)\n",
    "    if property_type == 'relationship':\n",
    "        domain_relationships.append(prop)\n",
    "\n",
    "print(\"Domain Attributes: {}\".format(domain_attributes))\n",
    "print(\"Domain Relationships: {}\".format(domain_relationships))"
   ]
  },
  {
   "cell_type": "code",
   "execution_count": 11,
   "metadata": {},
   "outputs": [
    {
     "output_type": "stream",
     "name": "stdout",
     "text": [
      "('All Attributes: '\n \"[rdflib.term.URIRef('http://www.w3.org/1999/02/22-rdf-syntax-ns#type'), \"\n \"rdflib.term.URIRef('http://www.w3.org/2000/01/rdf-schema#label'), \"\n \"rdflib.term.URIRef('http://www.w3.org/2000/01/rdf-schema#comment'), \"\n \"rdflib.term.URIRef('http://www.w3.org/1999/02/22-rdf-syntax-ns#language')]\")\n('All Relationships: '\n \"[rdflib.term.URIRef('http://www.w3.org/2000/01/rdf-schema#subClassOf'), \"\n \"rdflib.term.URIRef('http://www.primhillcomputers.com/survol#directory')]\")\n"
     ]
    }
   ],
   "source": [
    "# Aggregate all attributes and relationships:\n",
    "all_attributes = standard_attributes + domain_attributes\n",
    "all_relationships = standard_relationships + domain_relationships\n",
    "\n",
    "pprint(\"All Attributes: {}\".format(all_attributes))\n",
    "pprint(\"All Relationships: {}\".format(all_relationships))"
   ]
  },
  {
   "cell_type": "code",
   "execution_count": 12,
   "metadata": {},
   "outputs": [],
   "source": [
    "# Get the datatype for business\n",
    "def get_property_range(property_uri, g):\n",
    "    property = URIRef('http://www.w3.org/2000/01/rdf-schema#range')\n",
    "    range_objects = g.objects(property_uri, property)\n",
    "    if range_objects is not None:\n",
    "        range_type = util.first(range_objects)\n",
    "        return(range_type)\n",
    "    else:\n",
    "        print(\"Property {} does not have a declared range.\".format(property_uri))\n",
    "        return(range_objects) # Return None"
   ]
  },
  {
   "cell_type": "code",
   "execution_count": 13,
   "metadata": {},
   "outputs": [],
   "source": [
    "# Get all subjects of type class, i.e. the classes declared for the business domain:\n",
    "classes = list(g.subjects(RDF.type, RDFS.Class))\n",
    "classes.sort()\n",
    "#for c in classes:\n",
    "#    print(c)"
   ]
  },
  {
   "cell_type": "code",
   "execution_count": 16,
   "metadata": {
    "tags": []
   },
   "outputs": [
    {
     "output_type": "stream",
     "name": "stdout",
     "text": [
      "http://www.primhillcomputers.com/survol#AC2\nProperty: http://www.w3.org/1999/02/22-rdf-syntax-ns#type\tObject Name: type\nRange: None\nProperty: http://www.w3.org/2000/01/rdf-schema#label\tObject Name: label\nRange: None\nProperty: http://www.w3.org/2000/01/rdf-schema#comment\tObject Name: comment\nRange: None\nProperty: http://www.w3.org/1999/02/22-rdf-syntax-ns#language\tObject Name: language\nRange: None\nhttp://www.primhillcomputers.com/survol#Azure\nProperty: http://www.w3.org/1999/02/22-rdf-syntax-ns#type\tObject Name: type\nRange: None\nProperty: http://www.w3.org/2000/01/rdf-schema#label\tObject Name: label\nRange: None\nProperty: http://www.w3.org/2000/01/rdf-schema#comment\tObject Name: comment\nRange: None\nProperty: http://www.w3.org/1999/02/22-rdf-syntax-ns#language\tObject Name: language\nRange: None\nhttp://www.primhillcomputers.com/survol#CIM_ComputerSystem\nProperty: http://www.w3.org/1999/02/22-rdf-syntax-ns#type\tObject Name: type\nRange: None\nProperty: http://www.w3.org/2000/01/rdf-schema#label\tObject Name: label\nRange: None\nProperty: http://www.w3.org/2000/01/rdf-schema#comment\tObject Name: comment\nRange: None\nProperty: http://www.w3.org/1999/02/22-rdf-syntax-ns#language\tObject Name: language\nRange: None\nhttp://www.primhillcomputers.com/survol#CIM_DataFile\nProperty: http://www.w3.org/1999/02/22-rdf-syntax-ns#type\tObject Name: type\nRange: None\nProperty: http://www.w3.org/2000/01/rdf-schema#label\tObject Name: label\nRange: None\nProperty: http://www.w3.org/2000/01/rdf-schema#comment\tObject Name: comment\nRange: None\nProperty: http://www.w3.org/1999/02/22-rdf-syntax-ns#language\tObject Name: language\nRange: None\nhttp://www.primhillcomputers.com/survol#CIM_Directory\nProperty: http://www.w3.org/1999/02/22-rdf-syntax-ns#type\tObject Name: type\nRange: None\nProperty: http://www.w3.org/2000/01/rdf-schema#label\tObject Name: label\nRange: None\nProperty: http://www.w3.org/2000/01/rdf-schema#comment\tObject Name: comment\nRange: None\nProperty: http://www.w3.org/1999/02/22-rdf-syntax-ns#language\tObject Name: language\nRange: None\nhttp://www.primhillcomputers.com/survol#CIM_DiskDrive\nProperty: http://www.w3.org/1999/02/22-rdf-syntax-ns#type\tObject Name: type\nRange: None\nProperty: http://www.w3.org/2000/01/rdf-schema#label\tObject Name: label\nRange: None\nProperty: http://www.w3.org/2000/01/rdf-schema#comment\tObject Name: comment\nRange: None\nProperty: http://www.w3.org/1999/02/22-rdf-syntax-ns#language\tObject Name: language\nRange: None\nhttp://www.primhillcomputers.com/survol#CIM_DiskPartition\nProperty: http://www.w3.org/1999/02/22-rdf-syntax-ns#type\tObject Name: type\nRange: None\nProperty: http://www.w3.org/2000/01/rdf-schema#label\tObject Name: label\nRange: None\nProperty: http://www.w3.org/2000/01/rdf-schema#comment\tObject Name: comment\nRange: None\nProperty: http://www.w3.org/1999/02/22-rdf-syntax-ns#language\tObject Name: language\nRange: None\nhttp://www.primhillcomputers.com/survol#CIM_LogicalDisk\nProperty: http://www.w3.org/1999/02/22-rdf-syntax-ns#type\tObject Name: type\nRange: None\nProperty: http://www.w3.org/2000/01/rdf-schema#label\tObject Name: label\nRange: None\nProperty: http://www.w3.org/2000/01/rdf-schema#comment\tObject Name: comment\nRange: None\nProperty: http://www.w3.org/1999/02/22-rdf-syntax-ns#language\tObject Name: language\nRange: None\nhttp://www.primhillcomputers.com/survol#CIM_NetworkAdapter\nProperty: http://www.w3.org/1999/02/22-rdf-syntax-ns#type\tObject Name: type\nRange: None\nProperty: http://www.w3.org/2000/01/rdf-schema#label\tObject Name: label\nRange: None\nProperty: http://www.w3.org/2000/01/rdf-schema#comment\tObject Name: comment\nRange: None\nProperty: http://www.w3.org/1999/02/22-rdf-syntax-ns#language\tObject Name: language\nRange: None\nhttp://www.primhillcomputers.com/survol#CIM_OperatingSystem\nProperty: http://www.w3.org/1999/02/22-rdf-syntax-ns#type\tObject Name: type\nRange: None\nProperty: http://www.w3.org/2000/01/rdf-schema#label\tObject Name: label\nRange: None\nProperty: http://www.w3.org/2000/01/rdf-schema#comment\tObject Name: comment\nRange: None\nProperty: http://www.w3.org/1999/02/22-rdf-syntax-ns#language\tObject Name: language\nRange: None\nhttp://www.primhillcomputers.com/survol#CIM_Process\nProperty: http://www.w3.org/1999/02/22-rdf-syntax-ns#type\tObject Name: type\nRange: None\nProperty: http://www.w3.org/2000/01/rdf-schema#label\tObject Name: label\nRange: None\nProperty: http://www.w3.org/2000/01/rdf-schema#comment\tObject Name: comment\nRange: None\nProperty: http://www.w3.org/1999/02/22-rdf-syntax-ns#language\tObject Name: language\nRange: None\nhttp://www.primhillcomputers.com/survol#Databases\nProperty: http://www.w3.org/1999/02/22-rdf-syntax-ns#type\tObject Name: type\nRange: None\nProperty: http://www.w3.org/2000/01/rdf-schema#label\tObject Name: label\nRange: None\nProperty: http://www.w3.org/2000/01/rdf-schema#comment\tObject Name: comment\nRange: None\nProperty: http://www.w3.org/1999/02/22-rdf-syntax-ns#language\tObject Name: language\nRange: None\nhttp://www.primhillcomputers.com/survol#LMI_Account\nProperty: http://www.w3.org/1999/02/22-rdf-syntax-ns#type\tObject Name: type\nRange: None\nProperty: http://www.w3.org/2000/01/rdf-schema#label\tObject Name: label\nRange: None\nProperty: http://www.w3.org/2000/01/rdf-schema#comment\tObject Name: comment\nRange: None\nProperty: http://www.w3.org/1999/02/22-rdf-syntax-ns#language\tObject Name: language\nRange: None\nhttp://www.primhillcomputers.com/survol#LMI_Group\nProperty: http://www.w3.org/1999/02/22-rdf-syntax-ns#type\tObject Name: type\nRange: None\nProperty: http://www.w3.org/2000/01/rdf-schema#label\tObject Name: label\nRange: None\nProperty: http://www.w3.org/2000/01/rdf-schema#comment\tObject Name: comment\nRange: None\nProperty: http://www.w3.org/1999/02/22-rdf-syntax-ns#language\tObject Name: language\nRange: None\nhttp://www.primhillcomputers.com/survol#Linux\nProperty: http://www.w3.org/1999/02/22-rdf-syntax-ns#type\tObject Name: type\nRange: None\nProperty: http://www.w3.org/2000/01/rdf-schema#label\tObject Name: label\nRange: None\nProperty: http://www.w3.org/2000/01/rdf-schema#comment\tObject Name: comment\nRange: None\nProperty: http://www.w3.org/1999/02/22-rdf-syntax-ns#language\tObject Name: language\nRange: None\nhttp://www.primhillcomputers.com/survol#SMB\nProperty: http://www.w3.org/1999/02/22-rdf-syntax-ns#type\tObject Name: type\nRange: None\nProperty: http://www.w3.org/2000/01/rdf-schema#label\tObject Name: label\nRange: None\nProperty: http://www.w3.org/2000/01/rdf-schema#comment\tObject Name: comment\nRange: None\nProperty: http://www.w3.org/1999/02/22-rdf-syntax-ns#language\tObject Name: language\nRange: None\nhttp://www.primhillcomputers.com/survol#Win32_Group\nProperty: http://www.w3.org/1999/02/22-rdf-syntax-ns#type\tObject Name: type\nRange: None\nProperty: http://www.w3.org/2000/01/rdf-schema#label\tObject Name: label\nRange: None\nProperty: http://www.w3.org/2000/01/rdf-schema#comment\tObject Name: comment\nRange: None\nProperty: http://www.w3.org/1999/02/22-rdf-syntax-ns#language\tObject Name: language\nRange: None\nhttp://www.primhillcomputers.com/survol#Win32_Product\nProperty: http://www.w3.org/1999/02/22-rdf-syntax-ns#type\tObject Name: type\nRange: None\nProperty: http://www.w3.org/2000/01/rdf-schema#label\tObject Name: label\nRange: None\nProperty: http://www.w3.org/2000/01/rdf-schema#comment\tObject Name: comment\nRange: None\nProperty: http://www.w3.org/1999/02/22-rdf-syntax-ns#language\tObject Name: language\nRange: None\nhttp://www.primhillcomputers.com/survol#Win32_Service\nProperty: http://www.w3.org/1999/02/22-rdf-syntax-ns#type\tObject Name: type\nRange: None\nProperty: http://www.w3.org/2000/01/rdf-schema#label\tObject Name: label\nRange: None\nProperty: http://www.w3.org/2000/01/rdf-schema#comment\tObject Name: comment\nRange: None\nProperty: http://www.w3.org/1999/02/22-rdf-syntax-ns#language\tObject Name: language\nRange: None\nhttp://www.primhillcomputers.com/survol#Win32_UserAccount\nProperty: http://www.w3.org/1999/02/22-rdf-syntax-ns#type\tObject Name: type\nRange: None\nProperty: http://www.w3.org/2000/01/rdf-schema#label\tObject Name: label\nRange: None\nProperty: http://www.w3.org/2000/01/rdf-schema#comment\tObject Name: comment\nRange: None\nProperty: http://www.w3.org/1999/02/22-rdf-syntax-ns#language\tObject Name: language\nRange: None\nhttp://www.primhillcomputers.com/survol#addr\nProperty: http://www.w3.org/1999/02/22-rdf-syntax-ns#type\tObject Name: type\nRange: None\nProperty: http://www.w3.org/2000/01/rdf-schema#label\tObject Name: label\nRange: None\nProperty: http://www.w3.org/2000/01/rdf-schema#comment\tObject Name: comment\nRange: None\nProperty: http://www.w3.org/1999/02/22-rdf-syntax-ns#language\tObject Name: language\nRange: None\nhttp://www.primhillcomputers.com/survol#class\nProperty: http://www.w3.org/1999/02/22-rdf-syntax-ns#type\tObject Name: type\nRange: None\nProperty: http://www.w3.org/2000/01/rdf-schema#label\tObject Name: label\nRange: None\nProperty: http://www.w3.org/2000/01/rdf-schema#comment\tObject Name: comment\nRange: None\nProperty: http://www.w3.org/1999/02/22-rdf-syntax-ns#language\tObject Name: language\nRange: None\nhttp://www.primhillcomputers.com/survol#com\nProperty: http://www.w3.org/1999/02/22-rdf-syntax-ns#type\tObject Name: type\nRange: None\nProperty: http://www.w3.org/2000/01/rdf-schema#label\tObject Name: label\nRange: None\nProperty: http://www.w3.org/2000/01/rdf-schema#comment\tObject Name: comment\nRange: None\nProperty: http://www.w3.org/1999/02/22-rdf-syntax-ns#language\tObject Name: language\nRange: None\nhttp://www.primhillcomputers.com/survol#dbus\nProperty: http://www.w3.org/1999/02/22-rdf-syntax-ns#type\tObject Name: type\nRange: None\nProperty: http://www.w3.org/2000/01/rdf-schema#label\tObject Name: label\nRange: None\nProperty: http://www.w3.org/2000/01/rdf-schema#comment\tObject Name: comment\nRange: None\nProperty: http://www.w3.org/1999/02/22-rdf-syntax-ns#language\tObject Name: language\nRange: None\nhttp://www.primhillcomputers.com/survol#group\nProperty: http://www.w3.org/1999/02/22-rdf-syntax-ns#type\tObject Name: type\nRange: None\nProperty: http://www.w3.org/2000/01/rdf-schema#label\tObject Name: label\nRange: None\nProperty: http://www.w3.org/2000/01/rdf-schema#comment\tObject Name: comment\nRange: None\nProperty: http://www.w3.org/1999/02/22-rdf-syntax-ns#language\tObject Name: language\nRange: None\nhttp://www.primhillcomputers.com/survol#java\nProperty: http://www.w3.org/1999/02/22-rdf-syntax-ns#type\tObject Name: type\nRange: None\nProperty: http://www.w3.org/2000/01/rdf-schema#label\tObject Name: label\nRange: None\nProperty: http://www.w3.org/2000/01/rdf-schema#comment\tObject Name: comment\nRange: None\nProperty: http://www.w3.org/1999/02/22-rdf-syntax-ns#language\tObject Name: language\nRange: None\nhttp://www.primhillcomputers.com/survol#linker_symbol\nProperty: http://www.w3.org/1999/02/22-rdf-syntax-ns#type\tObject Name: type\nRange: None\nProperty: http://www.w3.org/2000/01/rdf-schema#label\tObject Name: label\nRange: None\nProperty: http://www.w3.org/2000/01/rdf-schema#comment\tObject Name: comment\nRange: None\nProperty: http://www.w3.org/1999/02/22-rdf-syntax-ns#language\tObject Name: language\nRange: None\nhttp://www.primhillcomputers.com/survol#memmap\nProperty: http://www.w3.org/1999/02/22-rdf-syntax-ns#type\tObject Name: type\nRange: None\nProperty: http://www.w3.org/2000/01/rdf-schema#label\tObject Name: label\nRange: None\nProperty: http://www.w3.org/2000/01/rdf-schema#comment\tObject Name: comment\nRange: None\nProperty: http://www.w3.org/1999/02/22-rdf-syntax-ns#language\tObject Name: language\nRange: None\nhttp://www.primhillcomputers.com/survol#mysql\nProperty: http://www.w3.org/1999/02/22-rdf-syntax-ns#type\tObject Name: type\nRange: None\nProperty: http://www.w3.org/2000/01/rdf-schema#label\tObject Name: label\nRange: None\nProperty: http://www.w3.org/2000/01/rdf-schema#comment\tObject Name: comment\nRange: None\nProperty: http://www.w3.org/1999/02/22-rdf-syntax-ns#language\tObject Name: language\nRange: None\nhttp://www.primhillcomputers.com/survol#neighborhood\nProperty: http://www.w3.org/1999/02/22-rdf-syntax-ns#type\tObject Name: type\nRange: None\nProperty: http://www.w3.org/2000/01/rdf-schema#label\tObject Name: label\nRange: None\nProperty: http://www.w3.org/2000/01/rdf-schema#comment\tObject Name: comment\nRange: None\nProperty: http://www.w3.org/1999/02/22-rdf-syntax-ns#language\tObject Name: language\nRange: None\nhttp://www.primhillcomputers.com/survol#nmap\nProperty: http://www.w3.org/1999/02/22-rdf-syntax-ns#type\tObject Name: type\nRange: None\nProperty: http://www.w3.org/2000/01/rdf-schema#label\tObject Name: label\nRange: None\nProperty: http://www.w3.org/2000/01/rdf-schema#comment\tObject Name: comment\nRange: None\nProperty: http://www.w3.org/1999/02/22-rdf-syntax-ns#language\tObject Name: language\nRange: None\nhttp://www.primhillcomputers.com/survol#odbc\nProperty: http://www.w3.org/1999/02/22-rdf-syntax-ns#type\tObject Name: type\nRange: None\nProperty: http://www.w3.org/2000/01/rdf-schema#label\tObject Name: label\nRange: None\nProperty: http://www.w3.org/2000/01/rdf-schema#comment\tObject Name: comment\nRange: None\nProperty: http://www.w3.org/1999/02/22-rdf-syntax-ns#language\tObject Name: language\nRange: None\nhttp://www.primhillcomputers.com/survol#oracle\nProperty: http://www.w3.org/1999/02/22-rdf-syntax-ns#type\tObject Name: type\nRange: None\nProperty: http://www.w3.org/2000/01/rdf-schema#label\tObject Name: label\nRange: None\nProperty: http://www.w3.org/2000/01/rdf-schema#comment\tObject Name: comment\nRange: None\nProperty: http://www.w3.org/1999/02/22-rdf-syntax-ns#language\tObject Name: language\nRange: None\nhttp://www.primhillcomputers.com/survol#python\nProperty: http://www.w3.org/1999/02/22-rdf-syntax-ns#type\tObject Name: type\nRange: None\nProperty: http://www.w3.org/2000/01/rdf-schema#label\tObject Name: label\nRange: None\nProperty: http://www.w3.org/2000/01/rdf-schema#comment\tObject Name: comment\nRange: None\nProperty: http://www.w3.org/1999/02/22-rdf-syntax-ns#language\tObject Name: language\nRange: None\nhttp://www.primhillcomputers.com/survol#rabbitmq\nProperty: http://www.w3.org/1999/02/22-rdf-syntax-ns#type\tObject Name: type\nRange: None\nProperty: http://www.w3.org/2000/01/rdf-schema#label\tObject Name: label\nRange: None\nProperty: http://www.w3.org/2000/01/rdf-schema#comment\tObject Name: comment\nRange: None\nProperty: http://www.w3.org/1999/02/22-rdf-syntax-ns#language\tObject Name: language\nRange: None\nhttp://www.primhillcomputers.com/survol#rpm\nProperty: http://www.w3.org/1999/02/22-rdf-syntax-ns#type\tObject Name: type\nRange: None\nProperty: http://www.w3.org/2000/01/rdf-schema#label\tObject Name: label\nRange: None\nProperty: http://www.w3.org/2000/01/rdf-schema#comment\tObject Name: comment\nRange: None\nProperty: http://www.w3.org/1999/02/22-rdf-syntax-ns#language\tObject Name: language\nRange: None\nhttp://www.primhillcomputers.com/survol#smbfile\nProperty: http://www.w3.org/1999/02/22-rdf-syntax-ns#type\tObject Name: type\nRange: None\nProperty: http://www.w3.org/2000/01/rdf-schema#label\tObject Name: label\nRange: None\nProperty: http://www.w3.org/2000/01/rdf-schema#comment\tObject Name: comment\nRange: None\nProperty: http://www.w3.org/1999/02/22-rdf-syntax-ns#language\tObject Name: language\nRange: None\nhttp://www.primhillcomputers.com/survol#smbserver\nProperty: http://www.w3.org/1999/02/22-rdf-syntax-ns#type\tObject Name: type\nRange: None\nProperty: http://www.w3.org/2000/01/rdf-schema#label\tObject Name: label\nRange: None\nProperty: http://www.w3.org/2000/01/rdf-schema#comment\tObject Name: comment\nRange: None\nProperty: http://www.w3.org/1999/02/22-rdf-syntax-ns#language\tObject Name: language\nRange: None\nhttp://www.primhillcomputers.com/survol#smbshr\nProperty: http://www.w3.org/1999/02/22-rdf-syntax-ns#type\tObject Name: type\nRange: None\nProperty: http://www.w3.org/2000/01/rdf-schema#label\tObject Name: label\nRange: None\nProperty: http://www.w3.org/2000/01/rdf-schema#comment\tObject Name: comment\nRange: None\nProperty: http://www.w3.org/1999/02/22-rdf-syntax-ns#language\tObject Name: language\nRange: None\nhttp://www.primhillcomputers.com/survol#sql\nProperty: http://www.w3.org/1999/02/22-rdf-syntax-ns#type\tObject Name: type\nRange: None\nProperty: http://www.w3.org/2000/01/rdf-schema#label\tObject Name: label\nRange: None\nProperty: http://www.w3.org/2000/01/rdf-schema#comment\tObject Name: comment\nRange: None\nProperty: http://www.w3.org/1999/02/22-rdf-syntax-ns#language\tObject Name: language\nRange: None\nhttp://www.primhillcomputers.com/survol#sqlite\nProperty: http://www.w3.org/1999/02/22-rdf-syntax-ns#type\tObject Name: type\nRange: None\nProperty: http://www.w3.org/2000/01/rdf-schema#label\tObject Name: label\nRange: None\nProperty: http://www.w3.org/2000/01/rdf-schema#comment\tObject Name: comment\nRange: None\nProperty: http://www.w3.org/1999/02/22-rdf-syntax-ns#language\tObject Name: language\nRange: None\nhttp://www.primhillcomputers.com/survol#sqlserver\nProperty: http://www.w3.org/1999/02/22-rdf-syntax-ns#type\tObject Name: type\nRange: None\nProperty: http://www.w3.org/2000/01/rdf-schema#label\tObject Name: label\nRange: None\nProperty: http://www.w3.org/2000/01/rdf-schema#comment\tObject Name: comment\nRange: None\nProperty: http://www.w3.org/1999/02/22-rdf-syntax-ns#language\tObject Name: language\nRange: None\nhttp://www.primhillcomputers.com/survol#user\nProperty: http://www.w3.org/1999/02/22-rdf-syntax-ns#type\tObject Name: type\nRange: None\nProperty: http://www.w3.org/2000/01/rdf-schema#label\tObject Name: label\nRange: None\nProperty: http://www.w3.org/2000/01/rdf-schema#comment\tObject Name: comment\nRange: None\nProperty: http://www.w3.org/1999/02/22-rdf-syntax-ns#language\tObject Name: language\nRange: None\nhttp://www.primhillcomputers.com/survol#win32\nProperty: http://www.w3.org/1999/02/22-rdf-syntax-ns#type\tObject Name: type\nRange: None\nProperty: http://www.w3.org/2000/01/rdf-schema#label\tObject Name: label\nRange: None\nProperty: http://www.w3.org/2000/01/rdf-schema#comment\tObject Name: comment\nRange: None\nProperty: http://www.w3.org/1999/02/22-rdf-syntax-ns#language\tObject Name: language\nRange: None\n"
     ]
    }
   ],
   "source": [
    "nodes_dict ={}\n",
    "for c in classes:\n",
    "    print(c)\n",
    "    node_attributes = []\n",
    "    for att_uri in all_attributes:\n",
    "        att_val = g.objects(c, att_uri)\n",
    "        if att_val is not None:\n",
    "            try:\n",
    "                att_name = att_uri.split('#')[-1]\n",
    "            except:\n",
    "                att_name = att_uri\n",
    "        print(\"Property: {}\\tObject Name: {}\".format(att_uri, att_name))\n",
    "        \n",
    "        att_range = get_property_range(att_uri, g)\n",
    "        #if att_range\n",
    "        print(\"Range: {}\".format(att_range))\n",
    "    #instances = g.subjects(RDF.type, c)\n",
    "    #print(list(instances))\n",
    "    #for i in instances:\n",
    "    #    props = g.predicates(i, None)    \n",
    "    #    print(list(props))\n",
    "    #props = g.predicates(c, None)\n",
    "    #for p in props:   \n",
    "    #break"
   ]
  },
  {
   "cell_type": "code",
   "execution_count": null,
   "metadata": {},
   "outputs": [],
   "source": []
  },
  {
   "cell_type": "code",
   "execution_count": null,
   "metadata": {},
   "outputs": [],
   "source": []
  }
 ]
}